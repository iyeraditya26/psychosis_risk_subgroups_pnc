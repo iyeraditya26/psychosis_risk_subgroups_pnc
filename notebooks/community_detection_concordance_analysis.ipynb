{
 "cells": [
  {
   "cell_type": "code",
   "execution_count": null,
   "metadata": {},
   "outputs": [],
   "source": [
    "import numpy as np\n",
    "import pandas as pd\n",
    "import matplotlib.pyplot as plt\n",
    "import seaborn as sns\n",
    "from sklearn.metrics import adjusted_rand_score\n",
    "from sklearn.utils import shuffle\n",
    "import umap.umap_ as umap\n",
    "%matplotlib inline"
   ]
  },
  {
   "cell_type": "code",
   "execution_count": null,
   "metadata": {},
   "outputs": [],
   "source": [
    "# Create a dataframe of all subjects in the final sample\n",
    "phenotype_df = pd.read_csv('[Insert filepath to phenotype data]', sep='\\t', low_memory=False)\n",
    "phenotype_df = phenotype_df[phenotype_df['INT_NUM'] == 1]\n",
    "SUBJID_df = pd.concat([pd.read_csv('../results/youth_SUBJIDs'), pd.read_csv('../results/early_adult_SUBJIDs')], axis=0)\n",
    "phenotype_df = pd.merge(phenotype_df, SUBJID_df['SUBJID'], how='inner', on='SUBJID')"
   ]
  },
  {
   "cell_type": "code",
   "execution_count": null,
   "metadata": {},
   "outputs": [],
   "source": [
    "# define lists for the different categories of variables\n",
    "ID_vars = ['SUBJID', 'INT_NUM', 'INT_TYPE', 'Sex']\n",
    "ADD = ['ADD011', 'ADD012', 'ADD013', 'ADD014', 'ADD015', 'ADD016', 'ADD020', 'ADD021', 'ADD022']\n",
    "AGR = ['AGR001', 'AGR002', 'AGR003', 'AGR004', 'AGR005', 'AGR006', 'AGR007', 'AGR008']\n",
    "CDD = ['CDD001', 'CDD002', 'CDD003', 'CDD004', 'CDD005', 'CDD006', 'CDD007', 'CDD008']\n",
    "DEP = ['DEP001', 'DEP002', 'DEP004', 'DEP006']\n",
    "GAD = ['GAD001', 'GAD002']\n",
    "MAN = ['MAN001', 'MAN002', 'MAN003', 'MAN004', 'MAN005', 'MAN006', 'MAN007']\n",
    "OCD = ['OCD001', 'OCD002', 'OCD003', 'OCD004', 'OCD005', 'OCD006', 'OCD007', 'OCD008', 'OCD011', 'OCD012', 'OCD013', 'OCD014', 'OCD015', 'OCD016', 'OCD017', 'OCD018', 'OCD019']\n",
    "ODD = ['ODD001', 'ODD002', 'ODD003', 'ODD005', 'ODD006']\n",
    "PAN = ['PAN001', 'PAN003', 'PAN004']\n",
    "PHB = ['PHB001', 'PHB002', 'PHB003', 'PHB004', 'PHB005', 'PHB006', 'PHB007', 'PHB008']\n",
    "PSY = ['PSY001', 'PSY029', 'PSY050', 'PSY060', 'PSY070', 'PSY071']\n",
    "SIP = ['SIP003', 'SIP004', 'SIP005', 'SIP006', 'SIP007', 'SIP008', 'SIP009', 'SIP010', 'SIP011', 'SIP012', 'SIP013', 'SIP014']\n",
    "PTD = ['PTD001', 'PTD002', 'PTD003', 'PTD004', 'PTD006', 'PTD007', 'PTD008', 'PTD009']\n",
    "SEP = ['SEP500', 'SEP508', 'SEP509', 'SEP510', 'SEP511']\n",
    "SOC = ['SOC001', 'SOC002', 'SOC003', 'SOC004', 'SOC005']\n",
    "SUI = ['SUI001', 'SUI002']\n",
    "\n",
    "# dictionary for grouping the disorder variables\n",
    "disorders = {\n",
    "    'ADD': ADD,\n",
    "    'AGR': AGR,\n",
    "    'CDD': CDD,\n",
    "    'DEP': DEP,\n",
    "    'GAD': GAD,\n",
    "    'MAN': MAN,\n",
    "    'OCD': OCD,\n",
    "    'ODD': ODD,\n",
    "    'PAN': PAN,\n",
    "    'PHB': PHB,\n",
    "    'PSY': PSY,\n",
    "    'SIP': SIP,\n",
    "    'PTD': PTD,\n",
    "    'SEP': SEP,\n",
    "    'SOC': SOC,\n",
    "    'SUI': SUI\n",
    "}\n",
    "\n",
    "for disorder in disorders.keys():\n",
    "    if disorder == 'SIP':\n",
    "        phenotype_df[disorder] = phenotype_df[disorders[disorder]].mean(axis=1)\n",
    "    else:\n",
    "        phenotype_df[disorder] = phenotype_df[disorders[disorder]].sum(axis=1)"
   ]
  },
  {
   "cell_type": "code",
   "execution_count": null,
   "metadata": {},
   "outputs": [],
   "source": [
    "# Split the dataframe into the youth and early adult age groups\n",
    "youth_phenotype_df = phenotype_df[phenotype_df['INT_TYPE'] == 'MP']\n",
    "early_adult_phenotype_df = phenotype_df[phenotype_df['INT_TYPE'] == 'AP']"
   ]
  },
  {
   "cell_type": "code",
   "execution_count": null,
   "metadata": {},
   "outputs": [],
   "source": [
    "SIP_score_threshold_labels_youth = youth_phenotype_df['SIP'].apply(lambda x: 'Mean Response = 0' if x == 0 else 'Mean Response > 0').tolist()\n",
    "SIP_score_threshold_labels_early_adult = early_adult_phenotype_df['SIP'].apply(lambda x: 'Mean Response = 0' if x == 0 else 'Mean Response > 0').tolist()"
   ]
  },
  {
   "cell_type": "markdown",
   "metadata": {},
   "source": [
    "# Compute the Adjusted Rand Index (ARI) between the community detection results from the multiplex SBMs and simple SBMs"
   ]
  },
  {
   "cell_type": "code",
   "execution_count": null,
   "metadata": {},
   "outputs": [],
   "source": [
    "def permutation_test_ari(model_1_labels, model_2_labels, n_permutations=10000, random_state=1234, return_distribution=False):\n",
    "    np.random.seed(random_state)\n",
    "    observed_ari = adjusted_rand_score(model_1_labels, model_2_labels)\n",
    "\n",
    "    permuted_aris = []\n",
    "    for _ in range(n_permutations):\n",
    "        permuted_model_1_labels = shuffle(model_1_labels, random_state=np.random.randint(0, 1e6))\n",
    "        ari = adjusted_rand_score(permuted_model_1_labels, model_2_labels)\n",
    "        permuted_aris.append(ari)\n",
    "\n",
    "    permuted_aris = np.array(permuted_aris)\n",
    "    p_value = np.mean(permuted_aris >= observed_ari)\n",
    "\n",
    "    if return_distribution:\n",
    "        return observed_ari, p_value, permuted_aris\n",
    "    \n",
    "    return observed_ari, p_value"
   ]
  },
  {
   "cell_type": "code",
   "execution_count": null,
   "metadata": {},
   "outputs": [],
   "source": [
    "def plot_umap_block_overlays(X, model_1_labels, model_2_labels, n_neighbors=15, min_dist=0.1, random_state=1234,\n",
    "                             model_1_labels_title='Model 1 Labels', model_2_labels_title='Model 2 Labels', legend_loc='upper right',\n",
    "                             filepath=None):\n",
    "    reducer = umap.UMAP(metric='precomputed', random_state=random_state)\n",
    "    X_embedded = reducer.fit_transform(X)\n",
    "\n",
    "    fig, axs = plt.subplots(1, 2, figsize=(14, 6))\n",
    "    \n",
    "    sns.scatterplot(x=X_embedded[:, 0], y=X_embedded[:, 1], hue=model_1_labels, palette='tab10', ax=axs[0])\n",
    "    axs[0].set_title(model_1_labels_title)\n",
    "    axs[0].set_xlabel(\"UMAP 1\")\n",
    "    axs[0].set_ylabel(\"UMAP 2\")\n",
    "    axs[0].set_xticks([])\n",
    "    axs[0].set_yticks([])\n",
    "    axs[0].legend(title='Block', loc=legend_loc)\n",
    "\n",
    "    sns.scatterplot(x=X_embedded[:, 0], y=X_embedded[:, 1], hue=model_2_labels, palette='tab10', ax=axs[1])\n",
    "    axs[1].set_title(model_2_labels_title)\n",
    "    axs[1].set_xlabel(\"UMAP 1\")\n",
    "    axs[1].set_xticks([])\n",
    "    axs[1].set_yticks([])\n",
    "    axs[1].legend(title='Block', ncol=2, loc=legend_loc)\n",
    "\n",
    "    sns.despine()\n",
    "    axs[1].spines['left'].set_visible(False)\n",
    "    \n",
    "    plt.tight_layout()\n",
    "    plt.show()\n",
    "\n",
    "    if filepath:\n",
    "        fig.savefig(filepath, bbox_inches='tight', dpi=300)"
   ]
  },
  {
   "cell_type": "code",
   "execution_count": null,
   "metadata": {},
   "outputs": [],
   "source": [
    "# Memberships for the youth subset\n",
    "youth_membership_list_filepath_multiplex_Pearson = '../results/youth_multiplex_Pearson_memberships.csv'\n",
    "youth_membership_list_multiplex_Pearson = pd.read_csv(youth_membership_list_filepath_multiplex_Pearson)['memberships'].values.tolist()\n",
    "\n",
    "youth_membership_list_filepath_multiplex_Euclidean = '../results/youth_multiplex_Euclidean_memberships.csv'\n",
    "youth_membership_list_multiplex_Euclidean = pd.read_csv(youth_membership_list_filepath_multiplex_Euclidean)['memberships'].values.tolist()\n",
    "\n",
    "youth_membership_list_filepath_simple = '../results/youth_simple_memberships.csv'\n",
    "youth_membership_list_simple = pd.read_csv(youth_membership_list_filepath_simple)['memberships'].values.tolist()\n",
    "\n",
    "# Memberhsips for the early adult subset\n",
    "early_adult_membership_list_filepath_multiplex_Pearson = '../results/early_adult_multiplex_Pearson_memberships.csv'\n",
    "early_adult_membership_list_multiplex_Pearson = pd.read_csv(early_adult_membership_list_filepath_multiplex_Pearson)['memberships'].values.tolist()\n",
    "\n",
    "early_adult_membership_list_filepath_multiplex_Euclidean = '../results/early_adult_multiplex_Euclidean_memberships.csv'\n",
    "early_adult_membership_list_multiplex_Euclidean = pd.read_csv(early_adult_membership_list_filepath_multiplex_Euclidean)['memberships'].values.tolist()\n",
    "\n",
    "early_adult_membership_list_filepath_simple = '../results/early_adult_simple_memberships.csv'\n",
    "early_adult_membership_list_simple = pd.read_csv(early_adult_membership_list_filepath_simple)['memberships'].values.tolist()"
   ]
  },
  {
   "cell_type": "markdown",
   "metadata": {},
   "source": [
    "## Youth age group"
   ]
  },
  {
   "cell_type": "code",
   "execution_count": null,
   "metadata": {},
   "outputs": [],
   "source": [
    "# ARI analysis for the youth age group comparing the community detection results from the multiplex SBM and simple SBM\n",
    "observed_ari, p_value = permutation_test_ari(youth_membership_list_multiplex_Pearson, youth_membership_list_simple)\n",
    "print(f\"Observed ARI: {observed_ari}, p-value: {p_value}\")"
   ]
  },
  {
   "cell_type": "code",
   "execution_count": null,
   "metadata": {},
   "outputs": [],
   "source": [
    "X = pd.read_csv(\"../results/youth_symptom_matrix.csv\").values\n",
    "\n",
    "plot_umap_block_overlays(X, youth_membership_list_multiplex_Pearson, youth_membership_list_simple,\n",
    "                         model_1_labels_title='Multiplex SBM Clusters', model_2_labels_title='Simple SBM Clusters', legend_loc='lower left',\n",
    "                         filepath='../results/youth_community_detection_UMAP_comparison')"
   ]
  },
  {
   "cell_type": "code",
   "execution_count": null,
   "metadata": {},
   "outputs": [],
   "source": [
    "X = pd.read_csv(\"../results/youth_symptom_matrix.csv\").values\n",
    "filepath='../results/youth_SIP_score_UMAP'\n",
    "legend_loc='lower left'\n",
    "random_state=1234\n",
    "\n",
    "reducer = umap.UMAP(metric='precomputed', random_state=random_state)\n",
    "X_embedded = reducer.fit_transform(X)\n",
    "\n",
    "plt.figure(figsize=(7, 6))\n",
    "sns.scatterplot(x=X_embedded[:, 0], y=X_embedded[:, 1], hue=SIP_score_threshold_labels_youth, palette='tab10')\n",
    "plt.title(\"Psychosis Risk (SIP) Domain\")\n",
    "plt.xlabel(\"UMAP 1\")\n",
    "plt.ylabel(\"UMAP 2\")\n",
    "plt.xticks([])\n",
    "plt.yticks([])\n",
    "plt.legend(loc=legend_loc)\n",
    "sns.despine()\n",
    "        \n",
    "plt.savefig(filepath, bbox_inches='tight', dpi=300)"
   ]
  },
  {
   "cell_type": "code",
   "execution_count": null,
   "metadata": {},
   "outputs": [],
   "source": [
    "# ARI analysis for the youth age group comparing the community detection results from multiplex SBMs fit to different neuroimaging layers\n",
    "# (i.e., one fit to a neuroimaging layer constructed using pairwise Pearson dissimilarities\n",
    "# and another fit to a neuroimaging layer constructed using pairwise Euclidean distances)\n",
    "observed_ari, p_value = permutation_test_ari(youth_membership_list_multiplex_Pearson, youth_membership_list_multiplex_Euclidean)\n",
    "print(f\"Observed ARI: {observed_ari}, p-value: {p_value}\")"
   ]
  },
  {
   "cell_type": "markdown",
   "metadata": {},
   "source": [
    "## Early adult age group"
   ]
  },
  {
   "cell_type": "code",
   "execution_count": null,
   "metadata": {},
   "outputs": [],
   "source": [
    "# ARI analysis for the early adult age group comparing the community detection results from the multiplex SBM and simple SBM\n",
    "observed_ari, p_value = permutation_test_ari(early_adult_membership_list_multiplex_Pearson, early_adult_membership_list_simple)\n",
    "print(f\"Observed ARI: {observed_ari}, p-value: {p_value}\")"
   ]
  },
  {
   "cell_type": "code",
   "execution_count": null,
   "metadata": {},
   "outputs": [],
   "source": [
    "X = pd.read_csv(\"../results/early_adult_symptom_matrix.csv\").values\n",
    "\n",
    "plot_umap_block_overlays(X, early_adult_membership_list_multiplex_Pearson, early_adult_membership_list_simple,\n",
    "                         model_1_labels_title='Multiplex SBM Clusters', model_2_labels_title='Simple SBM Clusters', legend_loc='upper right',\n",
    "                         filepath='../results/early_adult_community_detection_UMAP_comparison')"
   ]
  },
  {
   "cell_type": "code",
   "execution_count": null,
   "metadata": {},
   "outputs": [],
   "source": [
    "X = pd.read_csv(\"../results/early_adult_symptom_matrix.csv\").values\n",
    "filepath='../results/early_adult_SIP_score_UMAP'\n",
    "legend_loc='upper right'\n",
    "random_state=1234\n",
    "\n",
    "reducer = umap.UMAP(metric='precomputed', random_state=random_state)\n",
    "X_embedded = reducer.fit_transform(X)\n",
    "\n",
    "plt.figure(figsize=(7, 6))\n",
    "sns.scatterplot(x=X_embedded[:, 0], y=X_embedded[:, 1], hue=SIP_score_threshold_labels_early_adult, palette='tab10')\n",
    "plt.title(\"Psychosis Risk (SIP) Domain\")\n",
    "plt.xlabel(\"UMAP 1\")\n",
    "plt.ylabel(\"UMAP 2\")\n",
    "plt.xticks([])\n",
    "plt.yticks([])\n",
    "plt.legend(loc=legend_loc)\n",
    "sns.despine()\n",
    "        \n",
    "plt.savefig(filepath, bbox_inches='tight', dpi=300)"
   ]
  },
  {
   "cell_type": "code",
   "execution_count": null,
   "metadata": {},
   "outputs": [],
   "source": [
    "# ARI analysis for the early adult age group comparing the community detection results from multiplex SBMs fit to different neuroimaging layers\n",
    "# (i.e., one fit to a neuroimaging layer constructed using pairwise Pearson dissimilarities\n",
    "# and another fit to a neuroimaging layer constructed using pairwise Euclidean distances)\n",
    "observed_ari, p_value = permutation_test_ari(early_adult_membership_list_multiplex_Pearson, early_adult_membership_list_multiplex_Euclidean)\n",
    "print(f\"Observed ARI: {observed_ari}, p-value: {p_value}\")"
   ]
  },
  {
   "cell_type": "markdown",
   "metadata": {},
   "source": [
    "# Compute the Adjusted Rand Index (ARI) between the community detection results from the multiplex SBMs and simple SBMs if the blocks with greater-than-zero mean SIP scores are consolodated"
   ]
  },
  {
   "cell_type": "code",
   "execution_count": null,
   "metadata": {},
   "outputs": [],
   "source": [
    "# ARI analysis for the youth age group comparing the community detection results from the multiplex SBM and simple SBM\n",
    "# if the blocks with greater-than-zero mean SIP scores are consolodated\n",
    "observed_ari, p_value = permutation_test_ari(\n",
    "    youth_membership_list_multiplex_Pearson,\n",
    "    [2 if membership == 29 else 1 for membership in youth_membership_list_simple]\n",
    ")\n",
    "print(f\"Observed ARI: {observed_ari}, p-value: {p_value}\")"
   ]
  },
  {
   "cell_type": "code",
   "execution_count": null,
   "metadata": {},
   "outputs": [],
   "source": [
    "# ARI analysis for the early adult age group comparing the community detection results from the multiplex SBM and simple SBM\n",
    "# if the blocks with greater-than-zero mean SIP scores are consolodated\n",
    "observed_ari, p_value = permutation_test_ari(\n",
    "    early_adult_membership_list_multiplex_Pearson,\n",
    "    [2 if membership == 14 else 1 for membership in early_adult_membership_list_simple]\n",
    ")\n",
    "print(f\"Observed ARI: {observed_ari}, p-value: {p_value}\")"
   ]
  }
 ],
 "metadata": {
  "kernelspec": {
   "display_name": "Python 3 (ipykernel)",
   "language": "python",
   "name": "python3"
  },
  "language_info": {
   "codemirror_mode": {
    "name": "ipython",
    "version": 3
   },
   "file_extension": ".py",
   "mimetype": "text/x-python",
   "name": "python",
   "nbconvert_exporter": "python",
   "pygments_lexer": "ipython3",
   "version": "3.13.1"
  }
 },
 "nbformat": 4,
 "nbformat_minor": 4
}
