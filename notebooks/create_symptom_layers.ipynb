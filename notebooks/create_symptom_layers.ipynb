{
 "cells": [
  {
   "cell_type": "code",
   "execution_count": null,
   "metadata": {},
   "outputs": [],
   "source": [
    "import numpy as np\n",
    "import pandas as pd\n",
    "from os.path import exists\n",
    "import sys\n",
    "sys.path.append('../src')\n",
    "from symptom_layer_constructor import symptom_layer_constructor"
   ]
  },
  {
   "cell_type": "markdown",
   "metadata": {},
   "source": [
    "# Youth Sample"
   ]
  },
  {
   "cell_type": "code",
   "execution_count": null,
   "metadata": {},
   "outputs": [],
   "source": [
    "youth_symptom_layer = symptom_layer_constructor().generate_matrix(age_group='youth', SUBJIDs_filepath='../results/youth_SUBJIDs', filepath='../results/youth_symptom_matrix.csv')\n",
    "youth_symptom_layer"
   ]
  },
  {
   "cell_type": "markdown",
   "metadata": {},
   "source": [
    "# Early Adult Sample"
   ]
  },
  {
   "cell_type": "code",
   "execution_count": null,
   "metadata": {},
   "outputs": [],
   "source": [
    "early_adult_symptom_layer = symptom_layer_constructor().generate_matrix(age_group='early adults', SUBJIDs_filepath='../results/early_adult_SUBJIDs', filepath='../results/early_adult_symptom_matrix.csv')\n",
    "early_adult_symptom_layer"
   ]
  }
 ],
 "metadata": {
  "kernelspec": {
   "display_name": "Python 3 (ipykernel)",
   "language": "python",
   "name": "python3"
  },
  "language_info": {
   "codemirror_mode": {
    "name": "ipython",
    "version": 3
   },
   "file_extension": ".py",
   "mimetype": "text/x-python",
   "name": "python",
   "nbconvert_exporter": "python",
   "pygments_lexer": "ipython3",
   "version": "3.13.1"
  }
 },
 "nbformat": 4,
 "nbformat_minor": 4
}
