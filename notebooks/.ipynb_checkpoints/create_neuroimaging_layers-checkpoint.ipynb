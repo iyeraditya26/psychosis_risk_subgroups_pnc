{
 "cells": [
  {
   "cell_type": "code",
   "execution_count": null,
   "metadata": {},
   "outputs": [],
   "source": [
    "import numpy as np\n",
    "import pandas as pd\n",
    "from os.path import exists\n",
    "import sys\n",
    "sys.path.append('../src')\n",
    "from neuroimaging_layer_constructor import neuroimaging_layer_constructor"
   ]
  },
  {
   "cell_type": "markdown",
   "metadata": {},
   "source": [
    "# Youth sample"
   ]
  },
  {
   "cell_type": "markdown",
   "metadata": {},
   "source": [
    "### Neuroimaging layer constructed using pairwise Pearson dissimilarities"
   ]
  },
  {
   "cell_type": "code",
   "execution_count": null,
   "metadata": {},
   "outputs": [],
   "source": [
    "youth_neuroimaging_layer_Pearson = neuroimaging_layer_constructor(SUBJID_filepath='../results/youth_SUBJIDs').generate_matrix(network='Salience', dist_type='Pearson', filepath='../results/youth_neuroimaging_Pearson_matrix.csv')\n",
    "youth_neuroimaging_layer_Pearson"
   ]
  },
  {
   "cell_type": "markdown",
   "metadata": {},
   "source": [
    "### Neuroimaging layer constructed using pairwise Euclidean distances"
   ]
  },
  {
   "cell_type": "code",
   "execution_count": null,
   "metadata": {},
   "outputs": [],
   "source": [
    "youth_neuroimaging_layer_Euclidean = neuroimaging_layer_constructor(SUBJID_filepath='../results/youth_SUBJIDs').generate_matrix(network='Salience', dist_type='Euclidean', filepath='../results/youth_neuroimaging_Euclidean_matrix.csv')\n",
    "youth_neuroimaging_layer_Euclidean"
   ]
  },
  {
   "cell_type": "markdown",
   "metadata": {},
   "source": [
    "# Early adult sample"
   ]
  },
  {
   "cell_type": "markdown",
   "metadata": {},
   "source": [
    "### Neuroimaging layer constructed using pairwise Pearson dissimilarities"
   ]
  },
  {
   "cell_type": "code",
   "execution_count": null,
   "metadata": {},
   "outputs": [],
   "source": [
    "early_adult_neuroimaging_layer_Pearson = neuroimaging_layer_constructor(SUBJID_filepath='../results/early_adult_SUBJIDs').generate_matrix(network='Salience', dist_type='Pearson', filepath='../results/early_adult_neuroimaging_Pearson_matrix.csv')\n",
    "early_adult_neuroimaging_layer_Pearson"
   ]
  },
  {
   "cell_type": "markdown",
   "metadata": {},
   "source": [
    "### Neuroimaging layer constructed using pairwise Euclidean distances"
   ]
  },
  {
   "cell_type": "code",
   "execution_count": null,
   "metadata": {},
   "outputs": [],
   "source": [
    "early_adult_neuroimaging_layer_Euclidean = neuroimaging_layer_constructor(SUBJID_filepath='../results/early_adult_SUBJIDs').generate_matrix(network='Salience', dist_type='Euclidean', filepath='../results/early_adult_neuroimaging_Euclidean_matrix.csv')\n",
    "early_adult_neuroimaging_layer_Euclidean"
   ]
  }
 ],
 "metadata": {
  "kernelspec": {
   "display_name": "Python 3 (ipykernel)",
   "language": "python",
   "name": "python3"
  },
  "language_info": {
   "codemirror_mode": {
    "name": "ipython",
    "version": 3
   },
   "file_extension": ".py",
   "mimetype": "text/x-python",
   "name": "python",
   "nbconvert_exporter": "python",
   "pygments_lexer": "ipython3",
   "version": "3.13.1"
  }
 },
 "nbformat": 4,
 "nbformat_minor": 4
}
