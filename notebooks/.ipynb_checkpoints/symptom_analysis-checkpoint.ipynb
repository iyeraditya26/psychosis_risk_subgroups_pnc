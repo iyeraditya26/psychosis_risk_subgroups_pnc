{
 "cells": [
  {
   "cell_type": "code",
   "execution_count": null,
   "metadata": {},
   "outputs": [],
   "source": [
    "import pandas as pd\n",
    "import sys\n",
    "sys.path.append('../src')\n",
    "from table_generator import table_generator"
   ]
  },
  {
   "cell_type": "markdown",
   "metadata": {},
   "source": [
    "# Create Tables with Block-wise Information on the Pyschopathology Symptom Scores"
   ]
  },
  {
   "cell_type": "markdown",
   "metadata": {},
   "source": [
    "### Youth subset"
   ]
  },
  {
   "cell_type": "code",
   "execution_count": null,
   "metadata": {},
   "outputs": [],
   "source": [
    "table = table_generator(SUBJID_filepath='../results/youth_SUBJIDs', membership_list_filepath='../results/youth_multiplex_Pearson_memberships.csv').table\n",
    "table.to_csv('../results/youth_symptom_table.csv', index=False)\n",
    "table"
   ]
  },
  {
   "cell_type": "markdown",
   "metadata": {},
   "source": [
    "### Early adult subset"
   ]
  },
  {
   "cell_type": "code",
   "execution_count": null,
   "metadata": {},
   "outputs": [],
   "source": [
    "table = table_generator(SUBJID_filepath='../results/early_adult_SUBJIDs', membership_list_filepath='../results/early_adult_multiplex_Pearson_memberships.csv').table\n",
    "table.to_csv('../results/early_adult_symptom_table.csv', index=False)"
   ]
  },
  {
   "cell_type": "markdown",
   "metadata": {},
   "source": [
    "# Permutation Tests for Between-block Comparisons of Mean SIP Scores"
   ]
  },
  {
   "cell_type": "code",
   "execution_count": null,
   "metadata": {},
   "outputs": [],
   "source": [
    "# Create a dataframe of all subjects in the final sample\n",
    "phenotype_df = pd.read_csv('[Insert filepath to phenotype data]', sep='\\t', low_memory=False)\n",
    "phenotype_df = phenotype_df[phenotype_df['INT_NUM'] == 1]\n",
    "SUBJID_df = pd.concat([pd.read_csv('../results/youth_SUBJIDs'), pd.read_csv('../results/early_adult_SUBJIDs')], axis=0)\n",
    "phenotype_df = pd.merge(phenotype_df, SUBJID_df['SUBJID'], how='inner', on='SUBJID')"
   ]
  },
  {
   "cell_type": "code",
   "execution_count": null,
   "metadata": {},
   "outputs": [],
   "source": [
    "# define lists for the different categories of variables\n",
    "ID_vars = ['SUBJID', 'INT_NUM', 'INT_TYPE', 'Sex']\n",
    "SIP = ['SIP003', 'SIP004', 'SIP005', 'SIP006', 'SIP007', 'SIP008', 'SIP009', 'SIP010', 'SIP011', 'SIP012', 'SIP013', 'SIP014']\n",
    "\n",
    "phenotype_df['SIP'] = phenotype_df[SIP].mean(axis=1)"
   ]
  },
  {
   "cell_type": "code",
   "execution_count": null,
   "metadata": {},
   "outputs": [],
   "source": [
    "# Split the dataframe into the youth and early adult age groups\n",
    "youth_phenotype_df = phenotype_df[phenotype_df['INT_TYPE'] == 'MP']\n",
    "early_adult_phenotype_df = phenotype_df[phenotype_df['INT_TYPE'] == 'AP']"
   ]
  },
  {
   "cell_type": "code",
   "execution_count": null,
   "metadata": {},
   "outputs": [],
   "source": [
    "# Create DataFrames with block membership columns for both the youth and early adult age groups\n",
    "\n",
    "youth_membership_list_filepath = '../results/youth_multiplex_Pearson_memberships.csv'\n",
    "\n",
    "youth_membership_list = pd.read_csv(youth_membership_list_filepath)['memberships'].values.tolist()\n",
    "        \n",
    "# save the number of blocks\n",
    "Q_youth = max(youth_membership_list)\n",
    "        \n",
    "# add the block memberships to the phenotype dataframe\n",
    "youth_phenotype_df['Block'] = youth_membership_list\n",
    "\n",
    "\n",
    "early_adult_membership_list_filepath = '../results/early_adult_multiplex_Pearson_memberships.csv'\n",
    "\n",
    "early_adult_membership_list = pd.read_csv(early_adult_membership_list_filepath)['memberships'].values.tolist()\n",
    "        \n",
    "# save the number of blocks\n",
    "Q_early_adult = max(early_adult_membership_list)\n",
    "        \n",
    "# add the block memberships to the phenotype dataframe\n",
    "early_adult_phenotype_df['Block'] = early_adult_membership_list"
   ]
  },
  {
   "cell_type": "code",
   "execution_count": null,
   "metadata": {},
   "outputs": [],
   "source": [
    "# Permutation test for the youth age group\n",
    "group1_vals = youth_phenotype_df[youth_phenotype_df['Block'] == 1]['SIP'].values\n",
    "group2_vals = youth_phenotype_df[youth_phenotype_df['Block'] == 2]['SIP'].values\n",
    "\n",
    "res = permutation_test((group1_vals, group2_vals),\n",
    "                       statistic=lambda x, y: np.mean(x) - np.mean(y),\n",
    "                       permutation_type='independent',\n",
    "                       alternative='two-sided',\n",
    "                       n_resamples=10000,\n",
    "                       random_state=1234)\n",
    "\n",
    "print(\"Permutation test for between-block comparison of mean SIP scores among the youth age group\")\n",
    "print(f\"Observed difference: {res.statistic:.3f}, p-value: {res.pvalue:.4f}\\n\")"
   ]
  },
  {
   "cell_type": "code",
   "execution_count": null,
   "metadata": {},
   "outputs": [],
   "source": [
    "# Permutation tests for the early adult age group\n",
    "group1_vals = early_adult_phenotype_df[early_adult_phenotype_df['Block'] == 1]['SIP'].values\n",
    "group2_vals = early_adult_phenotype_df[early_adult_phenotype_df['Block'] == 2]['SIP'].values\n",
    "\n",
    "res = permutation_test((group1_vals, group2_vals),\n",
    "                       statistic=lambda x, y: np.mean(x) - np.mean(y),\n",
    "                       permutation_type='independent',\n",
    "                       alternative='two-sided',\n",
    "                       n_resamples=10000,\n",
    "                       random_state=1234)\n",
    "\n",
    "print(\"Permutation test for between-block comparison of mean SIP scores among the early adult age group\")\n",
    "print(f\"Observed difference: {res.statistic:.3f}, p-value: {res.pvalue:.4f}\\n\")"
   ]
  }
 ],
 "metadata": {
  "kernelspec": {
   "display_name": "Python 3 (ipykernel)",
   "language": "python",
   "name": "python3"
  },
  "language_info": {
   "codemirror_mode": {
    "name": "ipython",
    "version": 3
   },
   "file_extension": ".py",
   "mimetype": "text/x-python",
   "name": "python",
   "nbconvert_exporter": "python",
   "pygments_lexer": "ipython3",
   "version": "3.13.1"
  }
 },
 "nbformat": 4,
 "nbformat_minor": 4
}
